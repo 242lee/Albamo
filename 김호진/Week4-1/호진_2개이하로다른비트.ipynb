{
 "cells": [
  {
   "cell_type": "markdown",
   "metadata": {},
   "source": [
    "# 프로그래머스\n",
    "## 2개 이하로 다른 비트"
   ]
  },
  {
   "cell_type": "markdown",
   "metadata": {},
   "source": [
    "### ver1\n",
    "\n",
    "#### +1 반복 -> 달라진 1의 개수 세기 (2개 시간초과)"
   ]
  },
  {
   "cell_type": "code",
   "execution_count": 2,
   "metadata": {},
   "outputs": [
    {
     "name": "stdout",
     "output_type": "stream",
     "text": [
      "[3, 11]\n"
     ]
    }
   ],
   "source": [
    "def solution(numbers):\n",
    "    answer = []\n",
    "    for num in numbers:\n",
    "        fx = num\n",
    "        comp_sum = 0\n",
    "        while comp_sum != 1 and comp_sum != 2:\n",
    "            fx += 1\n",
    "            comp = num ^ fx\n",
    "            comp_sum = sum(list(map(int, format(comp, 'b'))))\n",
    "        answer.append(fx)\n",
    "    return answer\n",
    "\n",
    "print(solution([2, 7]))"
   ]
  },
  {
   "cell_type": "markdown",
   "metadata": {},
   "source": [
    "### ver2\n",
    "\n",
    "#### 그리디 (가 맞나? 답 안 봐서 모름)\n",
    "\n",
    "- 일단 x보다 커야하니까 무조건 +하는 방향\n",
    "- 최소값을 찾아야 하니까 가장 낮은 자릿수 (2^0)부터 따져보면 규칙성이 있음\n",
    "  - 1번째 자릿수가 0인 경우 : 그냥 1 더하면 비트가 1개 다름\n",
    "  - 1번째 자릿수가 1인 경우\n",
    "    - 2번째 자릿수가 0인 경우 : 그냥 1 더하면 비트가 2개 다름\n",
    "    - 2번째 자릿수가 1인 경우\n",
    "      - 자리+1하며 최초로 k번째 자릿수가 0이 되면 -> +를 해줘야 하는데, 얼마를 해주냐가 문제 -> 근데 2비트 차이가 나야 최소값이므로, 예를들어 0111 -> 1011이 돼야함\n",
    "      - 결론 : + 2^(k-2)하면 됨 (위 예시에선 4번째 자릿수가 0이므로 +2^2하면 0111 + 0100 = 1011)"
   ]
  },
  {
   "cell_type": "code",
   "execution_count": 3,
   "metadata": {},
   "outputs": [
    {
     "name": "stdout",
     "output_type": "stream",
     "text": [
      "[3, 11]\n"
     ]
    }
   ],
   "source": [
    "def solution(numbers):\n",
    "    answer = []\n",
    "    for num in numbers:\n",
    "        x = format(num, 'b')\n",
    "        x_len = len(x)\n",
    "        if x[x_len-1] == '0' or (0 <= x_len-2 and x[x_len-2:] == '01'):\n",
    "            answer.append(num+1)\n",
    "        else:\n",
    "            i = 1\n",
    "            while 0 <= x_len-i and x[x_len-i] == '1':\n",
    "                i += 1\n",
    "            num += 2**(i-2)\n",
    "            \n",
    "            answer.append(num)\n",
    "    return answer\n",
    "\n",
    "print(solution([2,7]))"
   ]
  }
 ],
 "metadata": {
  "kernelspec": {
   "display_name": "Python 3",
   "language": "python",
   "name": "python3"
  },
  "language_info": {
   "codemirror_mode": {
    "name": "ipython",
    "version": 3
   },
   "file_extension": ".py",
   "mimetype": "text/x-python",
   "name": "python",
   "nbconvert_exporter": "python",
   "pygments_lexer": "ipython3",
   "version": "3.9.13"
  }
 },
 "nbformat": 4,
 "nbformat_minor": 2
}
