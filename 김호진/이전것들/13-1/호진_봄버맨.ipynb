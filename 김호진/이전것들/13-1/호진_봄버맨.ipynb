{
 "cells": [
  {
   "cell_type": "markdown",
   "metadata": {},
   "source": [
    "# 백준 16918 봄버맨 실버1"
   ]
  },
  {
   "cell_type": "markdown",
   "metadata": {},
   "source": [
    "- 풀이 1 (단순 구현)"
   ]
  },
  {
   "cell_type": "code",
   "execution_count": null,
   "metadata": {},
   "outputs": [],
   "source": [
    "from collections import deque\n",
    "import sys\n",
    "input = sys.stdin.readline\n",
    "\n",
    "# 1 ~ 200\n",
    "R, C, N = map(int, input().split())\n",
    "\n",
    "arr = [list(input().strip()) for _ in range(R)]\n",
    "\n",
    "dq = deque()\n",
    "\n",
    "for i in range(R):\n",
    "    for j in range(C):\n",
    "        if arr[i][j] == 'O':\n",
    "            arr[i][j] = 0\n",
    "            dq.append([i, j, 0])\n",
    "\n",
    "dx = (1, 0, -1, 0)\n",
    "dy = (0, 1, 0, -1)\n",
    "\n",
    "for sec in range(2, N+1):\n",
    "    # 짝수 초에는 폭탄 추가\n",
    "    if sec % 2 == 0:\n",
    "        for i in range(R):\n",
    "            for j in range(C):\n",
    "                if arr[i][j] == '.':\n",
    "                    arr[i][j] = sec\n",
    "                    dq.append([i, j, sec])\n",
    "    \n",
    "    # 홀수 초에는 KA-BOOM\n",
    "    else:\n",
    "        while dq and dq[0][2] == sec - 3:\n",
    "            # 심어둔 폭탄 터트릴 준비\n",
    "            i, j, t = dq.popleft()\n",
    "            # 실제로 심어져 있으면 KA-BOOM\n",
    "            if arr[i][j] == sec - 3:\n",
    "                arr[i][j] = '.'\n",
    "                # 사방 폭탄 파괴\n",
    "                for d in range(4):\n",
    "                    ni = i + dx[d]\n",
    "                    nj = j + dy[d]\n",
    "                    # 이번에 터트려야할 폭탄이 아니면 파괴\n",
    "                    if 0 <= ni < R and 0 <= nj < C and arr[ni][nj] != '.' and arr[ni][nj] != sec - 3 :\n",
    "                        arr[ni][nj] = '.'\n",
    "\n",
    "for i in range(R):\n",
    "    for j in range(C):\n",
    "        if arr[i][j] == '.':\n",
    "            print('.', end='')\n",
    "        else:\n",
    "            print('O', end='')\n",
    "    print()"
   ]
  },
  {
   "cell_type": "markdown",
   "metadata": {},
   "source": [
    "- 풀이 2 그리디\n",
    "  - 1초 (N == 1) : 첫 폭탄 설치된 상태\n",
    "  - 2초(N%2 = 0) : 모든 칸에 설치됨 (둘째 폭탄 심어짐)\n",
    "  - 3초(N%4 = 3) : 첫 폭탄 터짐\n",
    "  - 4초(N%2 = 0) : 모든 칸에 설치됨\n",
    "  - 5초(N%4 = 1) : 첫 폭탄 터지고 남은 둘째 폭탄 터짐\n",
    "  - 이후 2초~5초 반복"
   ]
  },
  {
   "cell_type": "code",
   "execution_count": null,
   "metadata": {},
   "outputs": [
    {
     "ename": "",
     "evalue": "",
     "output_type": "error",
     "traceback": [
      "\u001b[1;31mRunning cells with 'Python 3.12.4' requires the ipykernel package.\n",
      "\u001b[1;31mRun the following command to install 'ipykernel' into the Python environment. \n",
      "\u001b[1;31mCommand: 'c:/Python312/python.exe -m pip install ipykernel -U --user --force-reinstall'"
     ]
    }
   ],
   "source": [
    "import sys\n",
    "input = sys.stdin.readline\n",
    "\n",
    "# 1 ~ 200\n",
    "R, C, N = map(int, input().split())\n",
    "arr = [list(input().strip()) for _ in range(R)]\n",
    "\n",
    "\n",
    "def solution():\n",
    "    # 1. N == 1일 때: 초기 상태 그대로 출력\n",
    "    if N == 1:\n",
    "        return arr\n",
    "\n",
    "    # 2. N % 2 == 0일 때: 모든 칸에 폭탄이 있는 상태\n",
    "    if N % 2 == 0:\n",
    "        return [['O'] * C for _ in range(R)]\n",
    "\n",
    "    # 초기 폭탄 위치 탐색\n",
    "    first_bombs = find_bombs(arr)\n",
    "\n",
    "    # 3. N % 4 == 3일 때: 초기 폭탄 터진 상태\n",
    "    if N % 4 == 3:\n",
    "        return explosion(first_bombs)\n",
    "\n",
    "    # 4. N > 1이고 N % 4 == 1일 때: 두 번째 폭발 후 상태\n",
    "    if N % 4 == 1:\n",
    "        # 첫 폭발 이후 남은 폭탄들이 두 번째 터질 폭탄들임\n",
    "        after_first_explosion_arr = explosion(first_bombs)\n",
    "        second_bombs = find_bombs(after_first_explosion_arr)\n",
    "        return explosion(second_bombs)\n",
    "\n",
    "def find_bombs(arr):\n",
    "    bombs = []\n",
    "    for i in range(R):\n",
    "        for j in range(C):\n",
    "            if arr[i][j] == 'O':\n",
    "                bombs.append((i, j))\n",
    "    return bombs\n",
    "\n",
    "def explosion(bombs):\n",
    "    ans = [['O'] * C for _ in range(R)]\n",
    "    for x, y in bombs:\n",
    "        ans[x][y] = '.'\n",
    "        for dx, dy in ((1, 0), (0, 1), (-1, 0), (0, -1)):\n",
    "            nx, ny = x + dx, y + dy\n",
    "            if 0 <= nx < R and 0 <= ny < C:\n",
    "                ans[nx][ny] = '.'\n",
    "    return ans\n",
    "\n",
    "# 출력\n",
    "ans = solution()\n",
    "for row in ans:\n",
    "    print(*row, sep='')\n"
   ]
  }
 ],
 "metadata": {
  "kernelspec": {
   "display_name": "Python 3",
   "language": "python",
   "name": "python3"
  },
  "language_info": {
   "name": "python",
   "version": "3.12.4"
  }
 },
 "nbformat": 4,
 "nbformat_minor": 2
}
